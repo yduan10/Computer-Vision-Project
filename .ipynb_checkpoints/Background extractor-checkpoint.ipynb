{
 "cells": [
  {
   "cell_type": "code",
   "execution_count": 2,
   "id": "ee075d58",
   "metadata": {},
   "outputs": [
    {
     "ename": "error",
     "evalue": "OpenCV(4.6.0) D:\\a\\opencv-python\\opencv-python\\opencv\\modules\\imgproc\\src\\color.cpp:182: error: (-215:Assertion failed) !_src.empty() in function 'cv::cvtColor'\n",
     "output_type": "error",
     "traceback": [
      "\u001b[1;31m---------------------------------------------------------------------------\u001b[0m",
      "\u001b[1;31merror\u001b[0m                                     Traceback (most recent call last)",
      "Input \u001b[1;32mIn [2]\u001b[0m, in \u001b[0;36m<cell line: 5>\u001b[1;34m()\u001b[0m\n\u001b[0;32m     18\u001b[0m _, frame_side \u001b[38;5;241m=\u001b[39m side\u001b[38;5;241m.\u001b[39mread()\n\u001b[0;32m     19\u001b[0m gray_birdview \u001b[38;5;241m=\u001b[39m cv2\u001b[38;5;241m.\u001b[39mcvtColor(frame_birdview, cv2\u001b[38;5;241m.\u001b[39mCOLOR_BGR2GRAY)\n\u001b[1;32m---> 20\u001b[0m gray_side \u001b[38;5;241m=\u001b[39m \u001b[43mcv2\u001b[49m\u001b[38;5;241;43m.\u001b[39;49m\u001b[43mcvtColor\u001b[49m\u001b[43m(\u001b[49m\u001b[43mframe_side\u001b[49m\u001b[43m,\u001b[49m\u001b[43m \u001b[49m\u001b[43mcv2\u001b[49m\u001b[38;5;241;43m.\u001b[39;49m\u001b[43mCOLOR_BGR2GRAY\u001b[49m\u001b[43m)\u001b[49m\n\u001b[0;32m     21\u001b[0m newbirdview \u001b[38;5;241m=\u001b[39m np\u001b[38;5;241m.\u001b[39mzeros((gray_birdview\u001b[38;5;241m.\u001b[39mshape[\u001b[38;5;241m0\u001b[39m], gray_birdview\u001b[38;5;241m.\u001b[39mshape[\u001b[38;5;241m1\u001b[39m]))\n\u001b[0;32m     22\u001b[0m newside \u001b[38;5;241m=\u001b[39m np\u001b[38;5;241m.\u001b[39mzeros((gray_side\u001b[38;5;241m.\u001b[39mshape[\u001b[38;5;241m0\u001b[39m], gray_side\u001b[38;5;241m.\u001b[39mshape[\u001b[38;5;241m1\u001b[39m]))\n",
      "\u001b[1;31merror\u001b[0m: OpenCV(4.6.0) D:\\a\\opencv-python\\opencv-python\\opencv\\modules\\imgproc\\src\\color.cpp:182: error: (-215:Assertion failed) !_src.empty() in function 'cv::cvtColor'\n"
     ]
    }
   ],
   "source": [
    "import numpy as np\n",
    "import cv2\n",
    "from matplotlib import pyplot as plt\n",
    "\n",
    "if __name__ == '__main__':\n",
    "    colored_birdview_bkg = cv2.imread('birdview/birdview_bkg.jpg')\n",
    "    colored_side_bkg = cv2.imread('side/side_bkg.jpg')\n",
    "    birdview_bkg = cv2.cvtColor(colored_birdview_bkg, cv2.COLOR_BGR2GRAY)\n",
    "    side_bkg = cv2.cvtColor(colored_side_bkg, cv2.COLOR_BGR2GRAY)\n",
    "    birdview_loc = 'birdview/birdview.mp4'\n",
    "    side_loc = 'side/side.mp4'\n",
    "    birdview = cv2.VideoCapture(birdview_loc)\n",
    "    side = cv2.VideoCapture(side_loc)\n",
    "    success = True\n",
    "    k=1\n",
    "    while (success is True):\n",
    "        success, frame_birdview = birdview.read()\n",
    "        _, frame_side = side.read()\n",
    "        gray_birdview = cv2.cvtColor(frame_birdview, cv2.COLOR_BGR2GRAY)\n",
    "        gray_side = cv2.cvtColor(frame_side, cv2.COLOR_BGR2GRAY)\n",
    "        newbirdview = np.zeros((gray_birdview.shape[0], gray_birdview.shape[1]))\n",
    "        newside = np.zeros((gray_side.shape[0], gray_side.shape[1]))\n",
    "        T = 60; #80\n",
    "        for i in range(0, newbirdview.shape[0]):\n",
    "            for j in range(0, newbirdview.shape[1]):\n",
    "                #print(\"birdview\", np.abs(gray_birdview[i, j] - birdview_bkg[i, j]))\n",
    "                if np.abs(int(gray_birdview[i, j]) - int(birdview_bkg[i, j])) > T:\n",
    "                    newbirdview[i, j] = 1;\n",
    "                else:\n",
    "                    newbirdview[i, j] = 0;\n",
    "        for i in range(0, newside.shape[0]):\n",
    "            for j in range(0, newside.shape[1]):\n",
    "                #print(\"side\", np.abs(gray_side[i, j] - side_bkg[i, j]))\n",
    "                if np.abs(int(gray_side[i, j]) - int(side_bkg[i, j])) > T:\n",
    "                    newside[i, j] = 1;\n",
    "                else:\n",
    "                    newside[i, j] = 0;\n",
    "\n",
    "        cv2.imwrite('birdview/birdview_frame('+str(k)+').jpg', newbirdview*255)\n",
    "        cv2.imwrite('side/side_frame(' + str(k) + ').jpg', newside*255)\n",
    "        k=k+1\n",
    "    print(\"conversion done!\")"
   ]
  },
  {
   "cell_type": "code",
   "execution_count": null,
   "id": "a10b42b5",
   "metadata": {},
   "outputs": [],
   "source": []
  }
 ],
 "metadata": {
  "kernelspec": {
   "display_name": "Python 3 (ipykernel)",
   "language": "python",
   "name": "python3"
  },
  "language_info": {
   "codemirror_mode": {
    "name": "ipython",
    "version": 3
   },
   "file_extension": ".py",
   "mimetype": "text/x-python",
   "name": "python",
   "nbconvert_exporter": "python",
   "pygments_lexer": "ipython3",
   "version": "3.9.12"
  }
 },
 "nbformat": 4,
 "nbformat_minor": 5
}
