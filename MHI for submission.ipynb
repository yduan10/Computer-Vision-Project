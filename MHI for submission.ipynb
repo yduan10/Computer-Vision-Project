{
 "cells": [
  {
   "cell_type": "code",
   "execution_count": 1,
   "id": "0e5bb98a",
   "metadata": {
    "scrolled": true
   },
   "outputs": [
    {
     "ename": "error",
     "evalue": "OpenCV(4.6.0) D:\\a\\opencv-python\\opencv-python\\opencv\\modules\\highgui\\src\\window.cpp:967: error: (-215:Assertion failed) size.width>0 && size.height>0 in function 'cv::imshow'\n",
     "output_type": "error",
     "traceback": [
      "\u001b[1;31m---------------------------------------------------------------------------\u001b[0m",
      "\u001b[1;31merror\u001b[0m                                     Traceback (most recent call last)",
      "Input \u001b[1;32mIn [1]\u001b[0m, in \u001b[0;36m<cell line: 36>\u001b[1;34m()\u001b[0m\n\u001b[0;32m     36\u001b[0m \u001b[38;5;28;01mwhile\u001b[39;00m cap\u001b[38;5;241m.\u001b[39misOpened():\n\u001b[0;32m     37\u001b[0m     _,frame\u001b[38;5;241m=\u001b[39ma\u001b[38;5;241m.\u001b[39mgetimag()\n\u001b[1;32m---> 38\u001b[0m     \u001b[43mcv2\u001b[49m\u001b[38;5;241;43m.\u001b[39;49m\u001b[43mimshow\u001b[49m\u001b[43m(\u001b[49m\u001b[38;5;124;43m\"\u001b[39;49m\u001b[38;5;124;43mout_win\u001b[39;49m\u001b[38;5;124;43m\"\u001b[39;49m\u001b[43m,\u001b[49m\u001b[43m \u001b[49m\u001b[43mframe\u001b[49m\u001b[43m)\u001b[49m\n\u001b[0;32m     39\u001b[0m     sleep(\u001b[38;5;241m0.04\u001b[39m)\n\u001b[0;32m     40\u001b[0m     \u001b[38;5;28;01mif\u001b[39;00m cv2\u001b[38;5;241m.\u001b[39mwaitKey(\u001b[38;5;241m1\u001b[39m) \u001b[38;5;241m==\u001b[39m \u001b[38;5;28mord\u001b[39m(\u001b[38;5;124m'\u001b[39m\u001b[38;5;124mq\u001b[39m\u001b[38;5;124m'\u001b[39m):\n",
      "\u001b[1;31merror\u001b[0m: OpenCV(4.6.0) D:\\a\\opencv-python\\opencv-python\\opencv\\modules\\highgui\\src\\window.cpp:967: error: (-215:Assertion failed) size.width>0 && size.height>0 in function 'cv::imshow'\n"
     ]
    }
   ],
   "source": [
    "import numpy as np\n",
    "import cv2\n",
    "from time import sleep\n",
    "import queue\n",
    "class MHI:\n",
    "    def __init__(self,cap,tau,delta,xi,t):\n",
    "        self.tau=tau\n",
    "        self.delta=delta\n",
    "        self.xi=xi\n",
    "        self.t=t\n",
    "        self.cap=cap\n",
    "        self.data = queue.Queue()\n",
    "        ret,frame=cap.read()\n",
    "        if ret:\n",
    "            for i in range(t):\n",
    "                self.data.put(frame)\n",
    "        self.H = np.zeros(frame.shape)\n",
    "    def getimag(self):\n",
    "        \n",
    "        ret,frame=cap.read()\n",
    "        if not ret:\n",
    "            return ret,frame\n",
    "        self.data.put(frame)\n",
    "        old_frame=self.data.get()\n",
    "        a=cv2.addWeighted(old_frame.astype(float),1, frame.astype(float), -1, 0)\n",
    "        D= np.fabs(a)\n",
    "        Psi= D >=self.xi\n",
    "        c=self.H-self.delta\n",
    "        H=np.maximum(0,c)\n",
    "        H[Psi]=self.tau\n",
    "        self.H=H\n",
    "        return ret, H.astype(\"uint8\")\n",
    "\n",
    "cap = cv2.VideoCapture('hand_gesture_detection_project/birdview_1/birdview.mp4') \n",
    "a=MHI(cap,tau=200,xi=20,delta=10,t=2)\n",
    "while cap.isOpened():\n",
    "    _,frame=a.getimag()\n",
    "    cv2.imshow(\"out_win\", frame)\n",
    "    sleep(0.04)\n",
    "    if cv2.waitKey(1) == ord('q'):\n",
    "        break\n",
    "\n",
    "cap.release()\n",
    "cv2.destroyAllWindows()\n"
   ]
  },
  {
   "cell_type": "code",
   "execution_count": null,
   "id": "0c70c948",
   "metadata": {},
   "outputs": [],
   "source": []
  },
  {
   "cell_type": "code",
   "execution_count": null,
   "id": "d8fe2838",
   "metadata": {},
   "outputs": [],
   "source": []
  },
  {
   "cell_type": "code",
   "execution_count": null,
   "id": "b7e13804",
   "metadata": {},
   "outputs": [],
   "source": []
  }
 ],
 "metadata": {
  "kernelspec": {
   "display_name": "Python 3 (ipykernel)",
   "language": "python",
   "name": "python3"
  },
  "language_info": {
   "codemirror_mode": {
    "name": "ipython",
    "version": 3
   },
   "file_extension": ".py",
   "mimetype": "text/x-python",
   "name": "python",
   "nbconvert_exporter": "python",
   "pygments_lexer": "ipython3",
   "version": "3.9.12"
  }
 },
 "nbformat": 4,
 "nbformat_minor": 5
}
